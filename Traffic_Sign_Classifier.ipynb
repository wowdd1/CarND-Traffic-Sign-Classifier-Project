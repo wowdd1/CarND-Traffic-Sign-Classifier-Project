{
 "cells": [
  {
   "cell_type": "markdown",
   "metadata": {
    "deletable": true,
    "editable": true
   },
   "source": [
    "# Self-Driving Car Engineer Nanodegree\n",
    "\n",
    "## Deep Learning\n",
    "\n",
    "## Project: Build a Traffic Sign Recognition Classifier\n",
    "\n",
    "In this notebook, a template is provided for you to implement your functionality in stages, which is required to successfully complete this project. If additional code is required that cannot be included in the notebook, be sure that the Python code is successfully imported and included in your submission if necessary. \n",
    "\n",
    "> **Note**: Once you have completed all of the code implementations, you need to finalize your work by exporting the iPython Notebook as an HTML document. Before exporting the notebook to html, all of the code cells need to have been run so that reviewers can see the final implementation and output. You can then export the notebook by using the menu above and navigating to  \\n\",\n",
    "    \"**File -> Download as -> HTML (.html)**. Include the finished document along with this notebook as your submission. \n",
    "\n",
    "In addition to implementing code, there is a writeup to complete. The writeup should be completed in a separate file, which can be either a markdown file or a pdf document. There is a [write up template](https://github.com/udacity/CarND-Traffic-Sign-Classifier-Project/blob/master/writeup_template.md) that can be used to guide the writing process. Completing the code template and writeup template will cover all of the [rubric points](https://review.udacity.com/#!/rubrics/481/view) for this project.\n",
    "\n",
    "The [rubric](https://review.udacity.com/#!/rubrics/481/view) contains \"Stand Out Suggestions\" for enhancing the project beyond the minimum requirements. The stand out suggestions are optional. If you decide to pursue the \"stand out suggestions\", you can include the code in this Ipython notebook and also discuss the results in the writeup file.\n",
    "\n",
    "\n",
    ">**Note:** Code and Markdown cells can be executed using the **Shift + Enter** keyboard shortcut. In addition, Markdown cells can be edited by typically double-clicking the cell to enter edit mode."
   ]
  },
  {
   "cell_type": "markdown",
   "metadata": {
    "deletable": true,
    "editable": true
   },
   "source": [
    "---\n",
    "## Step 0: Load The Data"
   ]
  },
  {
   "cell_type": "code",
   "execution_count": 1,
   "metadata": {
    "collapsed": false,
    "deletable": true,
    "editable": true
   },
   "outputs": [],
   "source": [
    "# Load pickled data\n",
    "import pickle\n",
    "import matplotlib.pyplot as plt\n",
    "import numpy as np\n",
    "import tensorflow as tf\n",
    "from sklearn.utils import shuffle\n",
    "from sklearn.model_selection import train_test_split\n",
    "import cv2\n",
    "from tensorflow.contrib.layers import flatten\n",
    "import random\n",
    "from skimage import io\n",
    "import os\n",
    "from skimage import exposure\n",
    "\n",
    "\n",
    "\n",
    "# TODO: Fill this in based on where you saved the training and testing data\n",
    "\n",
    "training_file = \"./traffic-signs-data/train.p\"\n",
    "validation_file=\"./traffic-signs-data/valid.p\"\n",
    "testing_file = \"./traffic-signs-data/test.p\"\n",
    "\n",
    "with open(training_file, mode='rb') as f:\n",
    "    train = pickle.load(f)\n",
    "with open(validation_file, mode='rb') as f:\n",
    "    valid = pickle.load(f)\n",
    "with open(testing_file, mode='rb') as f:\n",
    "    test = pickle.load(f)\n",
    "    \n",
    "X_train, y_train = train['features'], train['labels']\n",
    "X_valid, y_valid = valid['features'], valid['labels']\n",
    "X_test, y_test = test['features'], test['labels']\n",
    "X_test_origin, y_test_origin = test['features'], test['labels']"
   ]
  },
  {
   "cell_type": "markdown",
   "metadata": {
    "deletable": true,
    "editable": true
   },
   "source": [
    "---\n",
    "\n",
    "## Step 1: Dataset Summary & Exploration\n",
    "\n",
    "The pickled data is a dictionary with 4 key/value pairs:\n",
    "\n",
    "- `'features'` is a 4D array containing raw pixel data of the traffic sign images, (num examples, width, height, channels).\n",
    "- `'labels'` is a 1D array containing the label/class id of the traffic sign. The file `signnames.csv` contains id -> name mappings for each id.\n",
    "- `'sizes'` is a list containing tuples, (width, height) representing the the original width and height the image.\n",
    "- `'coords'` is a list containing tuples, (x1, y1, x2, y2) representing coordinates of a bounding box around the sign in the image. **THESE COORDINATES ASSUME THE ORIGINAL IMAGE. THE PICKLED DATA CONTAINS RESIZED VERSIONS (32 by 32) OF THESE IMAGES**\n",
    "\n",
    "Complete the basic data summary below. Use python, numpy and/or pandas methods to calculate the data summary rather than hard coding the results. For example, the [pandas shape method](http://pandas.pydata.org/pandas-docs/stable/generated/pandas.DataFrame.shape.html) might be useful for calculating some of the summary results. "
   ]
  },
  {
   "cell_type": "markdown",
   "metadata": {
    "deletable": true,
    "editable": true
   },
   "source": [
    "### Provide a Basic Summary of the Data Set Using Python, Numpy and/or Pandas"
   ]
  },
  {
   "cell_type": "code",
   "execution_count": 2,
   "metadata": {
    "collapsed": false,
    "deletable": true,
    "editable": true
   },
   "outputs": [
    {
     "name": "stdout",
     "output_type": "stream",
     "text": [
      "Number of training examples = 34799\n",
      "Number of testing examples = 12630\n",
      "Image data shape = (32, 32, 3)\n",
      "Number of classes = 43\n"
     ]
    }
   ],
   "source": [
    "### Replace each question mark with the appropriate value. \n",
    "### Use python, pandas or numpy methods rather than hard coding the results\n",
    "\n",
    "# TODO: Number of training examples\n",
    "n_train = len(X_train)\n",
    "\n",
    "# TODO: Number of testing examples.\n",
    "n_test = len(X_test)\n",
    "\n",
    "# TODO: What's the shape of an traffic sign image?\n",
    "image_shape = X_train[0].shape\n",
    "\n",
    "# TODO: How many unique classes/labels there are in the dataset.\n",
    "n_classes = 43\n",
    "\n",
    "print(\"Number of training examples =\", n_train)\n",
    "print(\"Number of testing examples =\", n_test)\n",
    "print(\"Image data shape =\", image_shape)\n",
    "print(\"Number of classes =\", n_classes)"
   ]
  },
  {
   "cell_type": "markdown",
   "metadata": {
    "deletable": true,
    "editable": true
   },
   "source": [
    "### Include an exploratory visualization of the dataset"
   ]
  },
  {
   "cell_type": "markdown",
   "metadata": {
    "deletable": true,
    "editable": true
   },
   "source": [
    "Visualize the German Traffic Signs Dataset using the pickled file(s). This is open ended, suggestions include: plotting traffic sign images, plotting the count of each sign, etc.\n",
    "\n",
    "The [Matplotlib](http://matplotlib.org/) [examples](http://matplotlib.org/examples/index.html) and [gallery](http://matplotlib.org/gallery.html) pages are a great resource for doing visualizations in Python.\n",
    "\n",
    "**NOTE:** It's recommended you start with something simple first. If you wish to do more, come back to it after you've completed the rest of the sections."
   ]
  },
  {
   "cell_type": "code",
   "execution_count": 3,
   "metadata": {
    "collapsed": false,
    "deletable": true,
    "editable": true
   },
   "outputs": [
    {
     "data": {
      "image/png": "[encoded data removed]",
      "text/plain": [
       "<matplotlib.figure.Figure at 0x7f822d6c0e48>"
      ]
     },
     "metadata": {},
     "output_type": "display_data"
    }
   ],
   "source": [
    "### Data exploration visualization code goes here.\n",
    "### Feel free to use as many code cells as needed.\n",
    "\n",
    "# Visualizations will be shown in the notebook.\n",
    "%matplotlib inline\n",
    "\n",
    "fig, ax = plt.subplots()\n",
    "\n",
    "ax.hist(y_train, n_classes, normed=1, histtype='bar', facecolor='b', alpha=0.75)\n",
    "ax.set_title('label frequency')\n",
    "ax.set_xlabel('labels')\n",
    "ax.set_ylabel('frequency')\n",
    "\n",
    "plt.show()"
   ]
  },
  {
   "cell_type": "markdown",
   "metadata": {
    "deletable": true,
    "editable": true
   },
   "source": [
    "----\n",
    "\n",
    "## Step 2: Design and Test a Model Architecture\n",
    "\n",
    "Design and implement a deep learning model that learns to recognize traffic signs. Train and test your model on the [German Traffic Sign Dataset](http://benchmark.ini.rub.de/?section=gtsrb&subsection=dataset).\n",
    "\n",
    "There are various aspects to consider when thinking about this problem:\n",
    "\n",
    "- Neural network architecture\n",
    "- Play around preprocessing techniques (normalization, rgb to grayscale, etc)\n",
    "- Number of examples per label (some have more than others).\n",
    "- Generate fake data.\n",
    "\n",
    "Here is an example of a [published baseline model on this problem](http://yann.lecun.com/exdb/publis/pdf/sermanet-ijcnn-11.pdf). It's not required to be familiar with the approach used in the paper but, it's good practice to try to read papers like these.\n",
    "\n",
    "**NOTE:** The LeNet-5 implementation shown in the [classroom](https://classroom.udacity.com/nanodegrees/nd013/parts/fbf77062-5703-404e-b60c-95b78b2f3f9e/modules/6df7ae49-c61c-4bb2-a23e-6527e69209ec/lessons/601ae704-1035-4287-8b11-e2c2716217ad/concepts/d4aca031-508f-4e0b-b493-e7b706120f81) at the end of the CNN lesson is a solid starting point. You'll have to change the number of classes and possibly the preprocessing, but aside from that it's plug and play!"
   ]
  },
  {
   "cell_type": "markdown",
   "metadata": {
    "deletable": true,
    "editable": true
   },
   "source": [
    "### Pre-process the Data Set (normalization, grayscale, etc.)"
   ]
  },
  {
   "cell_type": "markdown",
   "metadata": {
    "deletable": true,
    "editable": true
   },
   "source": [
    "Use the code cell (or multiple code cells, if necessary) to implement the first step of your project."
   ]
  },
  {
   "cell_type": "code",
   "execution_count": 4,
   "metadata": {
    "collapsed": false,
    "deletable": true,
    "editable": true
   },
   "outputs": [
    {
     "name": "stdout",
     "output_type": "stream",
     "text": [
      "image shape: (32, 32, 3)\n",
      "image shape: (32, 32, 1)\n",
      "X_train shape (32, 32, 1)\n",
      "[[[ 0.09803922]\n",
      "  [ 0.09411765]\n",
      "  [ 0.09411765]\n",
      "  ..., \n",
      "  [ 0.10588235]\n",
      "  [ 0.10588235]\n",
      "  [ 0.10588235]]\n",
      "\n",
      " [[ 0.10196079]\n",
      "  [ 0.09803922]\n",
      "  [ 0.09803922]\n",
      "  ..., \n",
      "  [ 0.10588235]\n",
      "  [ 0.10588235]\n",
      "  [ 0.10588235]]\n",
      "\n",
      " [[ 0.10196079]\n",
      "  [ 0.09803922]\n",
      "  [ 0.09803922]\n",
      "  ..., \n",
      "  [ 0.10588235]\n",
      "  [ 0.10588235]\n",
      "  [ 0.10588235]]\n",
      "\n",
      " ..., \n",
      " [[ 0.09411765]\n",
      "  [ 0.09803922]\n",
      "  [ 0.09803922]\n",
      "  ..., \n",
      "  [ 0.09411765]\n",
      "  [ 0.09411765]\n",
      "  [ 0.09803922]]\n",
      "\n",
      " [[ 0.09411765]\n",
      "  [ 0.09803922]\n",
      "  [ 0.09803922]\n",
      "  ..., \n",
      "  [ 0.09411765]\n",
      "  [ 0.09411765]\n",
      "  [ 0.09411765]]\n",
      "\n",
      " [[ 0.09411765]\n",
      "  [ 0.09803922]\n",
      "  [ 0.09803922]\n",
      "  ..., \n",
      "  [ 0.09411765]\n",
      "  [ 0.09019608]\n",
      "  [ 0.08627451]]]\n"
     ]
    },
    {
     "data": {
      "image/png": "[encoded data removed]",
      "text/plain": [
       "<matplotlib.figure.Figure at 0x7f82091d1898>"
      ]
     },
     "metadata": {},
     "output_type": "display_data"
    }
   ],
   "source": [
    "### Preprocess the data here. Preprocessing steps could include normalization, converting to grayscale, etc.\n",
    "### Feel free to use as many code cells as needed.\n",
    "\n",
    "def color2gray(image):\n",
    "    gray_img=cv2.cvtColor(image,cv2.COLOR_BGR2GRAY)\n",
    "    return gray_img\n",
    "\n",
    "def normal(image):\n",
    "    image = (image / 255.).astype(np.float32)\n",
    "    return image\n",
    "\n",
    "def Images_color2Gray(image_group):\n",
    "    X_train_gray=[]\n",
    "    for train_image in image_group: \n",
    "        gray_img=color2gray(train_image)\n",
    "        gray_img = gray_img[:, :, np.newaxis]\n",
    "        \n",
    "        X_train_gray.append(gray_img)\n",
    "\n",
    "    return X_train_gray\n",
    "\n",
    "def Images_normal(iamge_group):\n",
    "    X_train_normal=[]\n",
    "    for image in iamge_group:\n",
    "        image = normal(image)\n",
    "        X_train_normal.append(image)\n",
    "\n",
    "    return X_train_normal\n",
    "\n",
    "# plot two images\n",
    "fig, axs = plt.subplots(1,2, figsize=(5, 2))\n",
    "axs = axs.ravel()\n",
    "\n",
    "axs[0].axis('off')\n",
    "axs[0].set_title('raw')\n",
    "axs[0].imshow(X_train[100].squeeze())\n",
    "print('image shape:', X_train[100].shape)\n",
    "\n",
    "# transfer gray images to X_train and X_test\n",
    "X_train = Images_color2Gray(X_train)\n",
    "#X_valid = Images_color2Gray(X_valid)\n",
    "X_test = Images_color2Gray(X_test)\n",
    "\n",
    "axs[1].axis('off')\n",
    "axs[1].set_title('gray')\n",
    "axs[1].imshow(X_train[100].squeeze(), cmap='gray')\n",
    "\n",
    "print('image shape:', X_train[100].shape)\n",
    "\n",
    "X_train = Images_normal(X_train)\n",
    "X_test = Images_normal(X_test)\n",
    "\n",
    "\n",
    "print(\"X_train shape\", X_train[0].shape)\n",
    "print(X_train[0])\n",
    "#for image in X_train:\n",
    "#    print(image)"
   ]
  },
  {
   "cell_type": "markdown",
   "metadata": {
    "deletable": true,
    "editable": true
   },
   "source": [
    "### Model Architecture"
   ]
  },
  {
   "cell_type": "code",
   "execution_count": 5,
   "metadata": {
    "collapsed": true,
    "deletable": true,
    "editable": true
   },
   "outputs": [],
   "source": [
    "### Define your architecture here.\n",
    "### Feel free to use as many code cells as needed.\n",
    "\n",
    "def LeNet(x):    \n",
    "    # Hyperparameters\n",
    "    mu = 0\n",
    "    sigma = 0.1\n",
    "\n",
    "    # SOLUTION: Layer 1: Convolutional. Input = 32x32x1. Output = 28x28x6.\n",
    "    conv1_W = tf.Variable(tf.truncated_normal(shape=(5, 5, 1, 6), mean = mu, stddev = sigma))\n",
    "    conv1_b = tf.Variable(tf.zeros(6))\n",
    "    conv1   = tf.nn.conv2d(x, conv1_W, strides=[1, 1, 1, 1], padding='VALID') + conv1_b\n",
    "\n",
    "    # SOLUTION: Activation.\n",
    "    conv1 = tf.nn.relu(conv1)\n",
    "\n",
    "    # SOLUTION: Pooling. Input = 28x28x6. Output = 14x14x6.\n",
    "    conv1 = tf.nn.max_pool(conv1, ksize=[1, 2, 2, 1], strides=[1, 2, 2, 1], padding='VALID')\n",
    "\n",
    "    # SOLUTION: Layer 2: Convolutional. Output = 10x10x16.\n",
    "    conv2_W = tf.Variable(tf.truncated_normal(shape=(5, 5, 6, 16), mean = mu, stddev = sigma))\n",
    "    conv2_b = tf.Variable(tf.zeros(16))\n",
    "    conv2   = tf.nn.conv2d(conv1, conv2_W, strides=[1, 1, 1, 1], padding='VALID') + conv2_b\n",
    "\n",
    "    # SOLUTION: Activation.\n",
    "    conv2 = tf.nn.relu(conv2)\n",
    "\n",
    "    # SOLUTION: Pooling. Input = 10x10x16. Output = 5x5x16.\n",
    "    conv2 = tf.nn.max_pool(conv2, ksize=[1, 2, 2, 1], strides=[1, 2, 2, 1], padding='VALID')\n",
    "\n",
    "    # SOLUTION: Flatten. Input = 5x5x16. Output = 400.\n",
    "    fc0   = flatten(conv2)\n",
    "\n",
    "    # SOLUTION: Layer 3: Fully Connected. Input = 400. Output = 120.\n",
    "    fc1_W = tf.Variable(tf.truncated_normal(shape=(400, 120), mean = mu, stddev = sigma))\n",
    "    fc1_b = tf.Variable(tf.zeros(120))\n",
    "    fc1   = tf.matmul(fc0, fc1_W) + fc1_b\n",
    "\n",
    "    # SOLUTION: Activation.\n",
    "    fc1    = tf.nn.relu(fc1)\n",
    "\n",
    "    # SOLUTION: Layer 4: Fully Connected. Input = 120. Output = 84.\n",
    "    fc2_W  = tf.Variable(tf.truncated_normal(shape=(120, 84), mean = mu, stddev = sigma))\n",
    "    fc2_b  = tf.Variable(tf.zeros(84))\n",
    "    fc2    = tf.matmul(fc1, fc2_W) + fc2_b\n",
    "\n",
    "    # SOLUTION: Activation.\n",
    "    fc2    = tf.nn.relu(fc2)\n",
    "\n",
    "    # SOLUTION: Layer 5: Fully Connected. Input = 84. Output = 43.\n",
    "    fc3_W  = tf.Variable(tf.truncated_normal(shape=(84, 43), mean = mu, stddev = sigma))\n",
    "    fc3_b  = tf.Variable(tf.zeros(43))\n",
    "    logits = tf.matmul(fc2, fc3_W) + fc3_b\n",
    "\n",
    "    return logits"
   ]
  },
  {
   "cell_type": "markdown",
   "metadata": {
    "deletable": true,
    "editable": true
   },
   "source": [
    "### Train, Validate and Test the Model"
   ]
  },
  {
   "cell_type": "markdown",
   "metadata": {
    "deletable": true,
    "editable": true
   },
   "source": [
    "A validation set can be used to assess how well the model is performing. A low accuracy on the training and validation\n",
    "sets imply underfitting. A high accuracy on the training set but low accuracy on the validation set implies overfitting."
   ]
  },
  {
   "cell_type": "code",
   "execution_count": 6,
   "metadata": {
    "collapsed": false,
    "deletable": true,
    "editable": true
   },
   "outputs": [
    {
     "name": "stdout",
     "output_type": "stream",
     "text": [
      "X_train has 27839 data \n",
      "X_validation has 6960 data \n",
      "X_test has 12630 data \n"
     ]
    }
   ],
   "source": [
    "### Train your model here.\n",
    "### Calculate and report the accuracy on the training and validation set.\n",
    "### Once a final model architecture is selected, \n",
    "### the accuracy on the test set should be calculated and reported as well.\n",
    "### Feel free to use as many code cells as needed.\n",
    "\n",
    "X_train, X_validation, y_train, y_validation = train_test_split(X_train, y_train, \n",
    "                                                                test_size=0.20, random_state=42)\n",
    "\n",
    "print(\"X_train has {} data \".format(len(X_train)))\n",
    "print(\"X_validation has {} data \".format(len(X_validation)))\n",
    "print(\"X_test has {} data \".format(len(X_test)))\n",
    "\n",
    "\n",
    "rate = 0.001\n",
    "EPOCHS=30\n",
    "BATCH_SIZE=128\n",
    "save_file = './model.ckpt'\n",
    "\n",
    "x = tf.placeholder(tf.float32, (None, 32, 32, 1))\n",
    "y = tf.placeholder(tf.int32, (None))\n",
    "#keep_prob = tf.placeholder(tf.float32, (None))\n",
    "one_hot_y = tf.one_hot(y, 43)\n",
    "\n",
    "#network\n",
    "logits = LeNet(x)\n",
    "\n",
    "#train\n",
    "cross_entropy = tf.nn.softmax_cross_entropy_with_logits(logits=logits, labels=one_hot_y)\n",
    "loss_operation = tf.reduce_mean(cross_entropy)\n",
    "optimizer = tf.train.AdamOptimizer(learning_rate = rate)\n",
    "training_operation = optimizer.minimize(loss_operation)\n",
    "\n",
    "#evaluate\n",
    "correct_prediction = tf.equal(tf.argmax(logits, 1), tf.argmax(one_hot_y, 1))\n",
    "accuracy_operation = tf.reduce_mean(tf.cast(correct_prediction, tf.float32))\n",
    "saver = tf.train.Saver()\n",
    "\n",
    "def evaluate(X_data, y_data):\n",
    "    num_examples = len(X_data)\n",
    "    total_accuracy = 0\n",
    "    sess = tf.get_default_session()\n",
    "    for offset in range(0, num_examples, BATCH_SIZE):\n",
    "        batch_x, batch_y = X_data[offset:offset+BATCH_SIZE], y_data[offset:offset+BATCH_SIZE]\n",
    "        accuracy = sess.run(accuracy_operation, feed_dict={x: batch_x, y: batch_y})\n",
    "        total_accuracy += (accuracy * len(batch_x))\n",
    "    return total_accuracy / num_examples\n",
    "\n"
   ]
  },
  {
   "cell_type": "code",
   "execution_count": 7,
   "metadata": {
    "collapsed": false,
    "deletable": true,
    "editable": true
   },
   "outputs": [
    {
     "name": "stdout",
     "output_type": "stream",
     "text": [
      "Training...\n",
      "\n",
      "EPOCH 1 ...\n",
      "training Accuracy = 0.707\n",
      "EPOCH 2 ...\n",
      "training Accuracy = 0.845\n",
      "EPOCH 3 ...\n",
      "training Accuracy = 0.894\n",
      "EPOCH 4 ...\n",
      "training Accuracy = 0.915\n",
      "EPOCH 5 ...\n",
      "training Accuracy = 0.945\n",
      "EPOCH 6 ...\n",
      "training Accuracy = 0.955\n",
      "EPOCH 7 ...\n",
      "training Accuracy = 0.965\n",
      "EPOCH 8 ...\n",
      "training Accuracy = 0.963\n",
      "EPOCH 9 ...\n",
      "training Accuracy = 0.975\n",
      "EPOCH 10 ...\n",
      "training Accuracy = 0.981\n",
      "EPOCH 11 ...\n",
      "training Accuracy = 0.978\n",
      "EPOCH 12 ...\n",
      "training Accuracy = 0.982\n",
      "EPOCH 13 ...\n",
      "training Accuracy = 0.988\n",
      "EPOCH 14 ...\n",
      "training Accuracy = 0.987\n",
      "EPOCH 15 ...\n",
      "training Accuracy = 0.983\n",
      "EPOCH 16 ...\n",
      "training Accuracy = 0.991\n",
      "EPOCH 17 ...\n",
      "training Accuracy = 0.991\n",
      "EPOCH 18 ...\n",
      "training Accuracy = 0.992\n",
      "EPOCH 19 ...\n",
      "training Accuracy = 0.996\n",
      "EPOCH 20 ...\n",
      "training Accuracy = 0.989\n",
      "EPOCH 21 ...\n",
      "training Accuracy = 0.997\n",
      "EPOCH 22 ...\n",
      "training Accuracy = 0.996\n",
      "EPOCH 23 ...\n",
      "training Accuracy = 0.997\n",
      "EPOCH 24 ...\n",
      "training Accuracy = 0.991\n",
      "EPOCH 25 ...\n",
      "training Accuracy = 0.996\n",
      "EPOCH 26 ...\n",
      "training Accuracy = 0.996\n",
      "EPOCH 27 ...\n",
      "training Accuracy = 0.997\n",
      "EPOCH 28 ...\n",
      "training Accuracy = 0.998\n",
      "EPOCH 29 ...\n",
      "training Accuracy = 1.000\n",
      "EPOCH 30 ...\n",
      "training Accuracy = 0.997\n",
      "Validation Accuracy = 0.979\n",
      "test Accuracy = 0.887\n",
      "\n",
      "Model saved\n"
     ]
    }
   ],
   "source": [
    "#trian + evaluate\n",
    "with tf.Session() as sess:\n",
    "    sess.run(tf.global_variables_initializer())\n",
    "    num_examples = len(X_train)\n",
    "\n",
    "    print(\"Training...\")\n",
    "    print()\n",
    "    for i in range(EPOCHS):\n",
    "        X_train, y_train = shuffle(X_train, y_train)\n",
    "        #print(\"image shape:\", X_train[0].shape)\n",
    "        for offset in range(0, num_examples, BATCH_SIZE):\n",
    "            end = offset + BATCH_SIZE\n",
    "            batch_x, batch_y = X_train[offset:end], y_train[offset:end]\n",
    "            #print(\"image shape:\", batch_x[0].shape)\n",
    "            sess.run(training_operation, feed_dict={x: batch_x, y: batch_y})\n",
    "\n",
    "        print(\"EPOCH {} ...\".format(i+1))   \n",
    "        train_accuracy = evaluate(X_train, y_train)\n",
    "        print(\"training Accuracy = {:.3f}\".format(train_accuracy))\n",
    "\n",
    "\n",
    "    validation_accuracy = evaluate(X_validation, y_validation)\n",
    "    test_accuracy = evaluate(X_test, y_test)\n",
    "\n",
    "    \n",
    "    print(\"Validation Accuracy = {:.3f}\".format(validation_accuracy))\n",
    "    print(\"test Accuracy = {:.3f}\".format(test_accuracy))\n",
    "\n",
    "    print()\n",
    "\n",
    "    saver.save(sess, save_file)\n",
    "    print(\"Model saved\")"
   ]
  },
  {
   "cell_type": "markdown",
   "metadata": {
    "deletable": true,
    "editable": true
   },
   "source": [
    "---\n",
    "\n",
    "## Step 3: Test a Model on New Images\n",
    "\n",
    "To give yourself more insight into how your model is working, download at least five pictures of German traffic signs from the web and use your model to predict the traffic sign type.\n",
    "\n",
    "You may find `signnames.csv` useful as it contains mappings from the class id (integer) to the actual sign name."
   ]
  },
  {
   "cell_type": "markdown",
   "metadata": {
    "deletable": true,
    "editable": true
   },
   "source": [
    "### Load and Output the Images"
   ]
  },
  {
   "cell_type": "code",
   "execution_count": 9,
   "metadata": {
    "collapsed": false,
    "deletable": true,
    "editable": true
   },
   "outputs": [
    {
     "name": "stdout",
     "output_type": "stream",
     "text": [
      "image shape: (32, 32, 4)\n",
      "image shape: (32, 32, 4)\n",
      "image shape: (32, 32, 4)\n",
      "image shape: (32, 32, 4)\n",
      "image shape: (32, 32, 4)\n",
      "(5, 32, 32)\n",
      "(5, 32, 32, 1)\n",
      "----\n",
      "image shape: (32, 32, 1)\n",
      "image shape: (32, 32, 1)\n",
      "image shape: (32, 32, 1)\n",
      "image shape: (32, 32, 1)\n",
      "image shape: (32, 32, 1)\n",
      "---\n"
     ]
    },
    {
     "data": {
      "image/png": "[encoded data removed]",
      "text/plain": [
       "<matplotlib.figure.Figure at 0x7f82088ad668>"
      ]
     },
     "metadata": {},
     "output_type": "display_data"
    },
    {
     "data": {
      "image/png": "[encoded data removed]",
      "text/plain": [
       "<matplotlib.figure.Figure at 0x7f8208905978>"
      ]
     },
     "metadata": {},
     "output_type": "display_data"
    }
   ],
   "source": [
    "### Load the images and plot them here.\n",
    "### Feel free to use as many code cells as needed.\n",
    "\n",
    "test_size = 5\n",
    "\n",
    "X_test_random = []\n",
    "y_test_random = []\n",
    "\n",
    "y_test_random = [31, 17, 38, 13, 25]\n",
    "\n",
    "X_custom = np.empty([0, 32, 32, 3], dtype = np.int32)\n",
    "\n",
    "fig, axs = plt.subplots(1,5, figsize=(5, 2))\n",
    "axs = axs.ravel()\n",
    "    \n",
    "for i in range(0, 5):\n",
    "    image = io.imread(os.getcwd() + '/examples/web_img{0}'.format(i + 1) + '.png')\n",
    "    axs[i].axis('off')\n",
    "    axs[i].set_title(y_test_random[i])\n",
    "    axs[i].imshow(image.squeeze())\n",
    "    print('image shape:', image.shape)\n",
    "\n",
    "    X_custom = np.append(X_custom, [image[:, :, :3]], axis = 0)\n",
    "\n",
    "#X_custom = Images_color2Gray(X_custom)\n",
    "X_custom = 0.299 * X_custom[:, :, :, 0] + 0.587 * X_custom[:, :, :, 1] + 0.114 * X_custom[:, :, :, 2]\n",
    "#Scale features to be in [0, 1]\n",
    "X_custom = (X_custom / 255.).astype(np.float32)\n",
    "#for i in range(X_custom.shape[0]):\n",
    "#    X_custom[i] = exposure.equalize_adapthist(X_custom[i])\n",
    "print(X_custom.shape)\n",
    "\n",
    "X_custom = X_custom.reshape(X_custom.shape + (1,)) \n",
    "print(X_custom.shape)\n",
    "\n",
    "#print(X_custom)\n",
    "print('----')\n",
    "\n",
    "for img in X_custom:\n",
    "    X_test_random.append(img)\n",
    "\n",
    "fig, axs = plt.subplots(1,5, figsize=(5, 2))\n",
    "axs = axs.ravel()\n",
    "for i in range(0, len(X_test_random)):\n",
    "    axs[i].axis('off')\n",
    "    axs[i].set_title(str(y_test_random[i]))\n",
    "    axs[i].imshow(X_test_random[i].squeeze())\n",
    "    print('image shape:', X_test_random[i].shape)\n",
    "    \n",
    "X_test_random = X_custom\n",
    "print('---')\n",
    "\n",
    "\n"
   ]
  },
  {
   "cell_type": "markdown",
   "metadata": {
    "deletable": true,
    "editable": true
   },
   "source": [
    "### Predict the Sign Type for Each Image"
   ]
  },
  {
   "cell_type": "code",
   "execution_count": 10,
   "metadata": {
    "collapsed": false,
    "deletable": true,
    "editable": true
   },
   "outputs": [
    {
     "name": "stdout",
     "output_type": "stream",
     "text": [
      "predictor:\n",
      "[31 17 38 13 25]\n",
      "correct:\n",
      "[31, 17, 38, 13, 25]\n",
      "=================\n"
     ]
    }
   ],
   "source": [
    "### Run the predictions here and use the model to output the prediction for each image.\n",
    "### Make sure to pre-process the images with the same pre-processing pipeline used earlier.\n",
    "### Feel free to use as many code cells as needed.\n",
    "\n",
    "saver = tf.train.Saver()\n",
    "# create predictor \n",
    "predictor = tf.argmax(tf.nn.softmax(logits), 1)\n",
    "\n",
    "# Launch the graph\n",
    "with tf.Session() as sess:\n",
    "    saver.restore(sess, save_file)\n",
    "    out_labels=sess.run(predictor, feed_dict={x: X_test_random})\n",
    "\n",
    "print('predictor:')\n",
    "print(out_labels)\n",
    "\n",
    "print('correct:')\n",
    "print(y_test_random)\n",
    "\n",
    "print('=================')\n",
    "\n",
    "def getImageIndex(images, lable):\n",
    "    index = -1\n",
    "    for j in range(0, len(images)):\n",
    "        if images[j] == lable:\n",
    "            index = j\n",
    "            break\n",
    "    #print('index', index)\n",
    "    return index\n",
    "for i in range(0, len(y_test_random)):\n",
    "    count = 0\n",
    "    if y_test_random[i] != out_labels[i]:\n",
    "        print('wrong predictor:')\n",
    "        print(str(i + 1) + ' predictor:', out_labels[i])\n",
    "        print(str(i + 1) + ' correct:', y_test_random[i])\n",
    "        fig, axs = plt.subplots(1,2, figsize=(5, 2))\n",
    "        axs = axs.ravel()\n",
    "        \n",
    "        axs[0].axis('off')\n",
    "        axs[0].set_title(str(out_labels[i]))\n",
    "        axs[0].imshow(X_test_origin[getImageIndex(y_test_origin, out_labels[i])].squeeze())\n",
    "        \n",
    "        axs[1].axis('off')\n",
    "        axs[1].set_title(str(out_labels[i]))\n",
    "        axs[1].imshow(X_train[getImageIndex(y_train, out_labels[i])].squeeze())\n",
    "\n",
    "        fig, axs = plt.subplots(1,2, figsize=(5, 2))\n",
    "        axs = axs.ravel()   \n",
    "        \n",
    "        axs[0].axis('off')\n",
    "        axs[0].set_title(str(y_test_random[i]))\n",
    "        axs[0].imshow(X_test_origin[getImageIndex(y_test_origin, y_test_random[i])].squeeze())\n",
    "        \n",
    "        \n",
    "        axs[1].axis('off')\n",
    "        axs[1].set_title(str(y_test_random[i]))\n",
    "        axs[1].imshow(X_test_random[i].squeeze())\n",
    "        \n",
    "        count += 1\n",
    "        \n",
    "    if count > 0:\n",
    "        print('Total ' + str(count) + ' wrong')"
   ]
  },
  {
   "cell_type": "markdown",
   "metadata": {
    "deletable": true,
    "editable": true
   },
   "source": [
    "### Analyze Performance"
   ]
  },
  {
   "cell_type": "code",
   "execution_count": 11,
   "metadata": {
    "collapsed": false,
    "deletable": true,
    "editable": true
   },
   "outputs": [
    {
     "name": "stdout",
     "output_type": "stream",
     "text": [
      "Test Accuracy = 1.000\n"
     ]
    }
   ],
   "source": [
    "### Calculate the accuracy for these 5 new images. \n",
    "### For example, if the model predicted 1 out of 5 signs correctly, it's 20% accurate on these new images.\n",
    "import random\n",
    "saver = tf.train.Saver()\n",
    "#print(\"X_test size:\", len(X_test))\n",
    "#test_size = len(X_test)\n",
    "\n",
    "with tf.Session() as sess:\n",
    "    #saver.restore(sess, tf.train.latest_checkpoint('.'))\n",
    "    saver.restore(sess, save_file)\n",
    "    test_accuracy = evaluate(X_test_random, y_test_random)\n",
    "    print(\"Test Accuracy = {:.3f}\".format(test_accuracy))\n"
   ]
  },
  {
   "cell_type": "markdown",
   "metadata": {
    "deletable": true,
    "editable": true
   },
   "source": [
    "### Output Top 5 Softmax Probabilities For Each Image Found on the Web"
   ]
  },
  {
   "cell_type": "markdown",
   "metadata": {
    "deletable": true,
    "editable": true
   },
   "source": [
    "For each of the new images, print out the model's softmax probabilities to show the **certainty** of the model's predictions (limit the output to the top 5 probabilities for each image). [`tf.nn.top_k`](https://www.tensorflow.org/versions/r0.12/api_docs/python/nn.html#top_k) could prove helpful here. \n",
    "\n",
    "The example below demonstrates how tf.nn.top_k can be used to find the top k predictions for each image.\n",
    "\n",
    "`tf.nn.top_k` will return the values and indices (class ids) of the top k predictions. So if k=3, for each sign, it'll return the 3 largest probabilities (out of a possible 43) and the correspoding class ids.\n",
    "\n",
    "Take this numpy array as an example. The values in the array represent predictions. The array contains softmax probabilities for five candidate images with six possible classes. `tk.nn.top_k` is used to choose the three classes with the highest probability:\n",
    "\n",
    "```\n",
    "# (5, 6) array\n",
    "a = np.array([[ 0.24879643,  0.07032244,  0.12641572,  0.34763842,  0.07893497,\n",
    "         0.12789202],\n",
    "       [ 0.28086119,  0.27569815,  0.08594638,  0.0178669 ,  0.18063401,\n",
    "         0.15899337],\n",
    "       [ 0.26076848,  0.23664738,  0.08020603,  0.07001922,  0.1134371 ,\n",
    "         0.23892179],\n",
    "       [ 0.11943333,  0.29198961,  0.02605103,  0.26234032,  0.1351348 ,\n",
    "         0.16505091],\n",
    "       [ 0.09561176,  0.34396535,  0.0643941 ,  0.16240774,  0.24206137,\n",
    "         0.09155967]])\n",
    "```\n",
    "\n",
    "Running it through `sess.run(tf.nn.top_k(tf.constant(a), k=3))` produces:\n",
    "\n",
    "```\n",
    "TopKV2(values=array([[ 0.34763842,  0.24879643,  0.12789202],\n",
    "       [ 0.28086119,  0.27569815,  0.18063401],\n",
    "       [ 0.26076848,  0.23892179,  0.23664738],\n",
    "       [ 0.29198961,  0.26234032,  0.16505091],\n",
    "       [ 0.34396535,  0.24206137,  0.16240774]]), indices=array([[3, 0, 5],\n",
    "       [0, 1, 4],\n",
    "       [0, 5, 1],\n",
    "       [1, 3, 5],\n",
    "       [1, 4, 3]], dtype=int32))\n",
    "```\n",
    "\n",
    "Looking just at the first row we get `[ 0.34763842,  0.24879643,  0.12789202]`, you can confirm these are the 3 largest probabilities in `a`. You'll also notice `[3, 0, 5]` are the corresponding indices."
   ]
  },
  {
   "cell_type": "code",
   "execution_count": 21,
   "metadata": {
    "collapsed": false,
    "deletable": true,
    "editable": true
   },
   "outputs": [
    {
     "name": "stdout",
     "output_type": "stream",
     "text": [
      "TopKV2(values=array([[  9.99945760e-01,   5.42179187e-05,   1.56280535e-08,\n",
      "          8.91035455e-13,   8.35183634e-15],\n",
      "       [  9.99998689e-01,   1.26439147e-06,   6.87996788e-08,\n",
      "          1.08370477e-08,   2.94997277e-10],\n",
      "       [  9.99990582e-01,   8.05014770e-06,   6.71242731e-07,\n",
      "          2.93728732e-07,   2.62457633e-07],\n",
      "       [  1.00000000e+00,   1.48088012e-20,   1.19358668e-32,\n",
      "          5.94630797e-33,   3.29624894e-34],\n",
      "       [  1.00000000e+00,   1.43328471e-25,   4.22371043e-26,\n",
      "          6.90870899e-27,   9.53814578e-29]], dtype=float32), indices=array([[31, 21, 25,  2, 19],\n",
      "       [17, 14, 34,  3, 13],\n",
      "       [38, 34, 10, 36,  3],\n",
      "       [13, 35, 34, 41,  3],\n",
      "       [25, 14, 20, 24, 22]], dtype=int32))\n"
     ]
    },
    {
     "data": {
      "image/png": "[encoded data removed]",
      "text/plain": [
       "<matplotlib.figure.Figure at 0x7f8202d0eb00>"
      ]
     },
     "metadata": {},
     "output_type": "display_data"
    },
    {
     "data": {
      "image/png": "[encoded data removed]",
      "text/plain": [
       "<matplotlib.figure.Figure at 0x7f81fc56a668>"
      ]
     },
     "metadata": {},
     "output_type": "display_data"
    },
    {
     "name": "stdout",
     "output_type": "stream",
     "text": [
      "[  9.99945760e-01   5.42179187e-05   1.56280535e-08   8.91035455e-13\n",
      "   8.35183634e-15]\n",
      "[31 21 25  2 19]\n",
      "['Wild animals crossing' 'Double curve' 'Road work' 'Speed limit (50km/h)'\n",
      " 'Dangerous curve to the left']\n",
      "====================================================================================================\n"
     ]
    },
    {
     "data": {
      "image/png": "[encoded data removed]",
      "text/plain": [
       "<matplotlib.figure.Figure at 0x7f8202d4fb00>"
      ]
     },
     "metadata": {},
     "output_type": "display_data"
    },
    {
     "data": {
      "image/png": "[encoded data removed]",
      "text/plain": [
       "<matplotlib.figure.Figure at 0x7f81fc4488d0>"
      ]
     },
     "metadata": {},
     "output_type": "display_data"
    },
    {
     "name": "stdout",
     "output_type": "stream",
     "text": [
      "[  9.99998689e-01   1.26439147e-06   6.87996788e-08   1.08370477e-08\n",
      "   2.94997277e-10]\n",
      "[17 14 34  3 13]\n",
      "['No entry' 'Stop' 'Turn left ahead' 'Speed limit (60km/h)' 'Yield']\n",
      "====================================================================================================\n"
     ]
    },
    {
     "data": {
      "image/png": "[encoded data removed]",
      "text/plain": [
       "<matplotlib.figure.Figure at 0x7f81fc1bbba8>"
      ]
     },
     "metadata": {},
     "output_type": "display_data"
    },
    {
     "data": {
      "image/png": "[encoded data removed]",
      "text/plain": [
       "<matplotlib.figure.Figure at 0x7f8202bdd2b0>"
      ]
     },
     "metadata": {},
     "output_type": "display_data"
    },
    {
     "name": "stdout",
     "output_type": "stream",
     "text": [
      "[  9.99990582e-01   8.05014770e-06   6.71242731e-07   2.93728732e-07\n",
      "   2.62457633e-07]\n",
      "[38 34 10 36  3]\n",
      "['Keep right' 'Turn left ahead'\n",
      " 'No passing for vehicles over 3.5 metric tons' 'Go straight or right'\n",
      " 'Speed limit (60km/h)']\n",
      "====================================================================================================\n"
     ]
    },
    {
     "data": {
      "image/png": "[encoded data removed]",
      "text/plain": [
       "<matplotlib.figure.Figure at 0x7f81fc1c9240>"
      ]
     },
     "metadata": {},
     "output_type": "display_data"
    },
    {
     "data": {
      "image/png": "[encoded data removed]",
      "text/plain": [
       "<matplotlib.figure.Figure at 0x7f81ec796a20>"
      ]
     },
     "metadata": {},
     "output_type": "display_data"
    },
    {
     "name": "stdout",
     "output_type": "stream",
     "text": [
      "[  1.00000000e+00   1.48088012e-20   1.19358668e-32   5.94630797e-33\n",
      "   3.29624894e-34]\n",
      "[13 35 34 41  3]\n",
      "['Yield' 'Ahead only' 'Turn left ahead' 'End of no passing'\n",
      " 'Speed limit (60km/h)']\n",
      "====================================================================================================\n"
     ]
    },
    {
     "data": {
      "image/png": "[encoded data removed]",
      "text/plain": [
       "<matplotlib.figure.Figure at 0x7f81ec6564e0>"
      ]
     },
     "metadata": {},
     "output_type": "display_data"
    },
    {
     "data": {
      "image/png": "[encoded data removed]",
      "text/plain": [
       "<matplotlib.figure.Figure at 0x7f81fc12db70>"
      ]
     },
     "metadata": {},
     "output_type": "display_data"
    },
    {
     "name": "stdout",
     "output_type": "stream",
     "text": [
      "[  1.00000000e+00   1.43328471e-25   4.22371043e-26   6.90870899e-27\n",
      "   9.53814578e-29]\n",
      "[25 14 20 24 22]\n",
      "['Road work' 'Stop' 'Dangerous curve to the right'\n",
      " 'Road narrows on the right' 'Bumpy road']\n",
      "====================================================================================================\n"
     ]
    }
   ],
   "source": [
    "### Print out the top five softmax probabilities for the predictions on the German traffic sign images found on the web. \n",
    "### Feel free to use as many code cells as needed.\n",
    "        \n",
    "from matplotlib import pyplot\n",
    "import matplotlib.gridspec as gridspec\n",
    "from pandas.io.parsers import read_csv\n",
    "\n",
    "\n",
    "signnames = read_csv(\"signnames.csv\").values[:, 1]\n",
    "\n",
    "#print(signnames)\n",
    "\n",
    "saver = tf.train.Saver()\n",
    "# create top_k function\n",
    "output_topk = tf.nn.top_k(tf.nn.softmax(logits), k=5)\n",
    "\n",
    "# Launch the graph\n",
    "with tf.Session() as sess:\n",
    "    saver.restore(sess, save_file)\n",
    "    topk_result=sess.run(output_topk, feed_dict={x: X_test_random})\n",
    "\n",
    "print(topk_result)\n",
    "\n",
    "index = 0 \n",
    "for items in topk_result[1]:\n",
    "    fig, axs = plt.subplots(1,5, figsize=(5, 2))\n",
    "    axs = axs.ravel() \n",
    "     \n",
    "    for i in range(0, len(items)):  \n",
    "\n",
    "        axs[i].axis('off')\n",
    "        axs[i].set_title(str(items[i]))\n",
    "        axs[i].imshow(X_test_origin[getImageIndex(y_test_origin, items[i])].squeeze())\n",
    "        \n",
    "        \n",
    "    # Prepare the grid\n",
    "    pyplot.figure(figsize = (6, 2))\n",
    "    gridspec.GridSpec(2, 2)\n",
    "    pyplot.subplot2grid((2, 2), (0, 1), colspan=1, rowspan=2)\n",
    "    pyplot.barh(np.arange(5)+.5, topk_result[0][index], align='center')\n",
    "    pyplot.yticks(np.arange(5)+.5, signnames[topk_result[1][index]])\n",
    "    pyplot.tick_params(axis='both', which='both', labelleft='off', labelright='on', labeltop='off', labelbottom='off')\n",
    "\n",
    "    pyplot.show()\n",
    "    \n",
    "    print(topk_result[0][index])\n",
    "    print(topk_result[1][index])\n",
    "    print(signnames[topk_result[1][index]])\n",
    "    print('====='*20)\n",
    "\n",
    "    index += 1\n",
    "    "
   ]
  },
  {
   "cell_type": "markdown",
   "metadata": {
    "deletable": true,
    "editable": true
   },
   "source": [
    "---\n",
    "\n",
    "## Step 4: Visualize the Neural Network's State with Test Images\n",
    "\n",
    " This Section is not required to complete but acts as an additional excersise for understaning the output of a neural network's weights. While neural networks can be a great learning device they are often referred to as a black box. We can understand what the weights of a neural network look like better by plotting their feature maps. After successfully training your neural network you can see what it's feature maps look like by plotting the output of the network's weight layers in response to a test stimuli image. From these plotted feature maps, it's possible to see what characteristics of an image the network finds interesting. For a sign, maybe the inner network feature maps react with high activation to the sign's boundary outline or to the contrast in the sign's painted symbol.\n",
    "\n",
    " Provided for you below is the function code that allows you to get the visualization output of any tensorflow weight layer you want. The inputs to the function should be a stimuli image, one used during training or a new one you provided, and then the tensorflow variable name that represents the layer's state during the training process, for instance if you wanted to see what the [LeNet lab's](https://classroom.udacity.com/nanodegrees/nd013/parts/fbf77062-5703-404e-b60c-95b78b2f3f9e/modules/6df7ae49-c61c-4bb2-a23e-6527e69209ec/lessons/601ae704-1035-4287-8b11-e2c2716217ad/concepts/d4aca031-508f-4e0b-b493-e7b706120f81) feature maps looked like for it's second convolutional layer you could enter conv2 as the tf_activation variable.\n",
    "\n",
    "For an example of what feature map outputs look like, check out NVIDIA's results in their paper [End-to-End Deep Learning for Self-Driving Cars](https://devblogs.nvidia.com/parallelforall/deep-learning-self-driving-cars/) in the section Visualization of internal CNN State. NVIDIA was able to show that their network's inner weights had high activations to road boundary lines by comparing feature maps from an image with a clear path to one without. Try experimenting with a similar test to show that your trained network's weights are looking for interesting features, whether it's looking at differences in feature maps from images with or without a sign, or even what feature maps look like in a trained network vs a completely untrained one on the same sign image.\n",
    "\n",
    "<figure>\n",
    " <img src=\"visualize_cnn.png\" width=\"380\" alt=\"Combined Image\" />\n",
    " <figcaption>\n",
    " <p></p> \n",
    " <p style=\"text-align: center;\"> Your output should look something like this (above)</p> \n",
    " </figcaption>\n",
    "</figure>\n",
    " <p></p> \n"
   ]
  },
  {
   "cell_type": "code",
   "execution_count": null,
   "metadata": {
    "collapsed": true,
    "deletable": true,
    "editable": true
   },
   "outputs": [],
   "source": [
    "### Visualize your network's feature maps here.\n",
    "### Feel free to use as many code cells as needed.\n",
    "\n",
    "# image_input: the test image being fed into the network to produce the feature maps\n",
    "# tf_activation: should be a tf variable name used during your training procedure that represents the calculated state of a specific weight layer\n",
    "# activation_min/max: can be used to view the activation contrast in more detail, by default matplot sets min and max to the actual min and max values of the output\n",
    "# plt_num: used to plot out multiple different weight feature map sets on the same block, just extend the plt number for each new feature map entry\n",
    "\n",
    "def outputFeatureMap(image_input, tf_activation, activation_min=-1, activation_max=-1 ,plt_num=1):\n",
    "    # Here make sure to preprocess your image_input in a way your network expects\n",
    "    # with size, normalization, ect if needed\n",
    "    # image_input =\n",
    "    # Note: x should be the same name as your network's tensorflow data placeholder variable\n",
    "    # If you get an error tf_activation is not defined it maybe having trouble accessing the variable from inside a function\n",
    "    activation = tf_activation.eval(session=sess,feed_dict={x : image_input})\n",
    "    featuremaps = activation.shape[3]\n",
    "    plt.figure(plt_num, figsize=(15,15))\n",
    "    for featuremap in range(featuremaps):\n",
    "        plt.subplot(6,8, featuremap+1) # sets the number of feature maps to show on each row and column\n",
    "        plt.title('FeatureMap ' + str(featuremap)) # displays the feature map number\n",
    "        if activation_min != -1 & activation_max != -1:\n",
    "            plt.imshow(activation[0,:,:, featuremap], interpolation=\"nearest\", vmin =activation_min, vmax=activation_max, cmap=\"gray\")\n",
    "        elif activation_max != -1:\n",
    "            plt.imshow(activation[0,:,:, featuremap], interpolation=\"nearest\", vmax=activation_max, cmap=\"gray\")\n",
    "        elif activation_min !=-1:\n",
    "            plt.imshow(activation[0,:,:, featuremap], interpolation=\"nearest\", vmin=activation_min, cmap=\"gray\")\n",
    "        else:\n",
    "            plt.imshow(activation[0,:,:, featuremap], interpolation=\"nearest\", cmap=\"gray\")"
   ]
  },
  {
   "cell_type": "markdown",
   "metadata": {
    "deletable": true,
    "editable": true
   },
   "source": [
    "### Question 9\n",
    "\n",
    "Discuss how you used the visual output of your trained network's feature maps to show that it had learned to look for interesting characteristics in traffic sign images\n"
   ]
  },
  {
   "cell_type": "markdown",
   "metadata": {
    "deletable": true,
    "editable": true
   },
   "source": [
    "**Answer:**"
   ]
  },
  {
   "cell_type": "markdown",
   "metadata": {
    "deletable": true,
    "editable": true
   },
   "source": [
    "> **Note**: Once you have completed all of the code implementations and successfully answered each question above, you may finalize your work by exporting the iPython Notebook as an HTML document. You can do this by using the menu above and navigating to  \\n\",\n",
    "    \"**File -> Download as -> HTML (.html)**. Include the finished document along with this notebook as your submission."
   ]
  },
  {
   "cell_type": "markdown",
   "metadata": {
    "deletable": true,
    "editable": true
   },
   "source": [
    "### Project Writeup\n",
    "\n",
    "Once you have completed the code implementation, document your results in a project writeup using this [template](https://github.com/udacity/CarND-Traffic-Sign-Classifier-Project/blob/master/writeup_template.md) as a guide. The writeup can be in a markdown or pdf file. "
   ]
  },
  {
   "cell_type": "code",
   "execution_count": null,
   "metadata": {
    "collapsed": true,
    "deletable": true,
    "editable": true
   },
   "outputs": [],
   "source": []
  }
 ],
 "metadata": {
  "anaconda-cloud": {},
  "kernelspec": {
   "display_name": "Python 3",
   "language": "python",
   "name": "python3"
  },
  "language_info": {
   "codemirror_mode": {
    "name": "ipython",
    "version": 3
   },
   "file_extension": ".py",
   "mimetype": "text/x-python",
   "name": "python",
   "nbconvert_exporter": "python",
   "pygments_lexer": "ipython3",
   "version": "3.5.2"
  },
  "widgets": {
   "state": {},
   "version": "1.1.2"
  }
 },
 "nbformat": 4,
 "nbformat_minor": 1
}
